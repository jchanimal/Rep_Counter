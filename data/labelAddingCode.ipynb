{
 "cells": [
  {
   "cell_type": "code",
   "execution_count": 6,
   "metadata": {},
   "outputs": [],
   "source": [
    "import pandas as pd\n",
    "addon = pd.read_csv(\"chinups.csv\")\n",
    "addon[\"label\"] = \"0\"\n",
    "addon.to_csv(\"chinups.csv\", index = False)"
   ]
  },
  {
   "cell_type": "code",
   "execution_count": 7,
   "metadata": {},
   "outputs": [],
   "source": [
    "addon = pd.read_csv(\"dips.csv\")\n",
    "addon[\"label\"] = \"1\"\n",
    "addon.to_csv(\"dips.csv\", index = False)"
   ]
  },
  {
   "cell_type": "code",
   "execution_count": 8,
   "metadata": {},
   "outputs": [],
   "source": [
    "addon = pd.read_csv(\"sitting.csv\")\n",
    "addon[\"label\"] = \"2\"\n",
    "addon.to_csv(\"sitting.csv\", index = False)"
   ]
  },
  {
   "cell_type": "code",
   "execution_count": 9,
   "metadata": {},
   "outputs": [],
   "source": [
    "addon = pd.read_csv(\"situps.csv\")\n",
    "addon[\"label\"] = \"3\"\n",
    "addon.to_csv(\"situps.csv\", index = False)"
   ]
  },
  {
   "cell_type": "code",
   "execution_count": 10,
   "metadata": {},
   "outputs": [],
   "source": [
    "addon = pd.read_csv(\"standing.csv\")\n",
    "addon[\"label\"] = \"4\"\n",
    "addon.to_csv(\"standing.csv\", index = False)"
   ]
  },
  {
   "cell_type": "code",
   "execution_count": null,
   "metadata": {},
   "outputs": [],
   "source": []
  }
 ],
 "metadata": {
  "kernelspec": {
   "display_name": "Python 3",
   "language": "python",
   "name": "python3"
  },
  "language_info": {
   "codemirror_mode": {
    "name": "ipython",
    "version": 3
   },
   "file_extension": ".py",
   "mimetype": "text/x-python",
   "name": "python",
   "nbconvert_exporter": "python",
   "pygments_lexer": "ipython3",
   "version": "3.8.5"
  }
 },
 "nbformat": 4,
 "nbformat_minor": 4
}
